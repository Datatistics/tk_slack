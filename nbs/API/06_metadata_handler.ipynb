{
 "cells": [
  {
   "cell_type": "markdown",
   "id": "641f6f54",
   "metadata": {},
   "source": [
    "# metadata_handler"
   ]
  },
  {
   "cell_type": "code",
   "execution_count": null,
   "id": "0cbee6d6",
   "metadata": {},
   "outputs": [],
   "source": [
    "#| default_exp metadata_handler"
   ]
  },
  {
   "cell_type": "code",
   "execution_count": null,
   "id": "4e2942a5",
   "metadata": {},
   "outputs": [],
   "source": [
    "#| hide\n",
    "from nbdev.showdoc import *"
   ]
  },
  {
   "cell_type": "code",
   "execution_count": null,
   "id": "7e039805",
   "metadata": {},
   "outputs": [],
   "source": [
    "#| export\n",
    "from fastcore.basics import patch_to\n",
    "from fastcore.test import *\n",
    "import json\n",
    "from typing import Dict, Any, Optional, List"
   ]
  },
  {
   "cell_type": "markdown",
   "id": "2d4ecab8",
   "metadata": {},
   "source": [
    "Metadata will be an important component for allowing TriggerKit to make and react to interactive messages.\n",
    "\n",
    "We need to allow users to:\n",
    "- encode metadata in their messages\n",
    "- retrieve metadata from user interactions in the Snowflake Table\n",
    "\n",
    "The means tk_slakc needs to:\n",
    "- Encode the specified metadata into the message\n",
    "- Retrieve the metadata from messages\n",
    "- Send the metadata with the user interaction to Snowflake"
   ]
  },
  {
   "cell_type": "code",
   "execution_count": null,
   "id": "413cd635",
   "metadata": {},
   "outputs": [],
   "source": [
    "#| export\n",
    "\n",
    "class MessageMetadataHandler:\n",
    "    \"\"\"\n",
    "    Handles the creation and attachment of metadata to Slack messages.\n",
    "    \n",
    "    This class implements Slack's message metadata feature which allows\n",
    "    attaching invisible structured data to messages for event-driven processing.\n",
    "    \n",
    "    Reference: https://api.slack.com/metadata\n",
    "    \"\"\"\n",
    "    pass"
   ]
  },
  {
   "cell_type": "code",
   "execution_count": null,
   "id": "2450d3c5",
   "metadata": {},
   "outputs": [],
   "source": [
    "#| export\n",
    "\n",
    "@patch_to(MessageMetadataHandler,cls_method=True)\n",
    "def create_metadata(\n",
    "        self,\n",
    "        event_type: str,\n",
    "        view_info: Optional[Dict[str, Any]] = None,\n",
    "        response_config: Optional[Dict[str, Any]] = None,\n",
    "        custom_data: Optional[Dict[str, Any]] = None\n",
    "    ) -> Dict[str, Any]:\n",
    "    \"\"\"Create structured metadata for a Slack message.\n",
    "    \n",
    "    Args:\n",
    "        event_type: Type of event (e.g., 'lead_alert', 'data_notification')\n",
    "        view_info: Optional information about the Snowflake view that generated this message\n",
    "        response_config: Optional configuration for how to respond to user actions\n",
    "        custom_data: Optional additional custom data to include\n",
    "        \n",
    "    Returns:\n",
    "        Properly formatted metadata dictionary\n",
    "    \"\"\"\n",
    "    # Create the event payload\n",
    "    event_payload = {}\n",
    "    \n",
    "    # Add view information if provided\n",
    "    if view_info:\n",
    "        event_payload.update({\n",
    "            \"view_name\": view_info.get(\"view\", \"unknown\"),\n",
    "            \"view_group\": view_info.get(\"view_group\", \"unknown\")\n",
    "        })\n",
    "        \n",
    "    # Add response configuration if provided\n",
    "    if response_config:\n",
    "        event_payload.update({\n",
    "            \"response_type\": response_config.get(\"response_type\", \"ephemeral\"),\n",
    "            \"response_message\": response_config.get(\"response_message\", \"Your response has been received!\"),\n",
    "            \"replace_original\": response_config.get(\"replace_original\", False)\n",
    "        })\n",
    "        \n",
    "    # Add any custom data provided\n",
    "    if custom_data:\n",
    "        # Add with a custom_data prefix to avoid conflicts\n",
    "        event_payload.update({\n",
    "            f\"custom_{k}\": v for k, v in custom_data.items()\n",
    "        })\n",
    "        \n",
    "    # Create the metadata object\n",
    "    metadata = {\n",
    "        \"event_type\": event_type,\n",
    "        \"event_payload\": event_payload\n",
    "    }\n",
    "    \n",
    "    return metadata\n",
    "    "
   ]
  },
  {
   "cell_type": "code",
   "execution_count": null,
   "id": "b0bb47ff",
   "metadata": {},
   "outputs": [],
   "source": [
    "#| export\n",
    "\n",
    "@patch_to(MessageMetadataHandler,cls_method=True)\n",
    "def add_metadata_to_message(\n",
    "    self,\n",
    "    message: Dict[str, Any],\n",
    "    event_type: str,\n",
    "    view_info: Optional[Dict[str, Any]] = None,\n",
    "    response_config: Optional[Dict[str, Any]] = None,\n",
    "    custom_data: Optional[Dict[str, Any]] = None\n",
    ") -> Dict[str, Any]:\n",
    "    \"\"\"Add metadata to a Slack message payload.\n",
    "    \n",
    "    Args:\n",
    "        message: Slack message payload\n",
    "        event_type: Type of event\n",
    "        view_info: Optional view information\n",
    "        response_config: Optional response configuration\n",
    "        custom_data: Optional additional custom data\n",
    "        \n",
    "    Returns:\n",
    "        Message with metadata attached\n",
    "    \"\"\"\n",
    "    # Create metadata\n",
    "    metadata = MessageMetadataHandler.create_metadata(\n",
    "        event_type, view_info, response_config, custom_data\n",
    "    )\n",
    "    \n",
    "    # Add to message\n",
    "    message_with_metadata = message.copy()\n",
    "    message_with_metadata[\"metadata\"] = metadata\n",
    "    \n",
    "    return message_with_metadata\n"
   ]
  },
  {
   "cell_type": "code",
   "execution_count": null,
   "id": "12ac6c3c",
   "metadata": {},
   "outputs": [],
   "source": [
    "#| export\n",
    "\n",
    "@patch_to(MessageMetadataHandler,cls_method=True)\n",
    "def extract_metadata_from_message(self, message: Dict[str, Any]) -> Dict[str, Any]:\n",
    "    \"\"\"Extract metadata from a Slack message.\n",
    "    \n",
    "    Args:\n",
    "        message: Slack message with metadata\n",
    "        \n",
    "    Returns:\n",
    "        Extracted metadata or empty dict if none\n",
    "    \"\"\"\n",
    "    if not message or \"metadata\" not in message:\n",
    "        return {}\n",
    "        \n",
    "    return message[\"metadata\"]"
   ]
  },
  {
   "cell_type": "code",
   "execution_count": null,
   "id": "e7a5a009",
   "metadata": {},
   "outputs": [],
   "source": [
    "#| export\n",
    "\n",
    "@patch_to(MessageMetadataHandler,cls_method=True)\n",
    "def get_event_payload(self, message: Dict[str, Any]) -> Dict[str, Any]:\n",
    "    \"\"\"Get the event payload from a message's metadata.\n",
    "    \n",
    "    Args:\n",
    "        message: Slack message with metadata\n",
    "        \n",
    "    Returns:\n",
    "        Event payload or empty dict if none\n",
    "    \"\"\"\n",
    "    metadata = MessageMetadataHandler.extract_metadata_from_message(message)\n",
    "    if not metadata or \"event_payload\" not in metadata:\n",
    "        return {}\n",
    "        \n",
    "    return metadata[\"event_payload\"]"
   ]
  },
  {
   "cell_type": "code",
   "execution_count": null,
   "id": "5543b468",
   "metadata": {},
   "outputs": [],
   "source": [
    "#| hide\n",
    "import nbdev; nbdev.nbdev_export()"
   ]
  }
 ],
 "metadata": {
  "kernelspec": {
   "display_name": "python3",
   "language": "python",
   "name": "python3"
  }
 },
 "nbformat": 4,
 "nbformat_minor": 5
}
