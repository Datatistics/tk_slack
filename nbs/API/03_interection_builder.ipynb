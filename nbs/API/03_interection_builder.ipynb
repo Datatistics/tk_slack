{
 "cells": [
  {
   "cell_type": "markdown",
   "id": "6a8fdd13",
   "metadata": {},
   "source": [
    "# interaction_builder"
   ]
  },
  {
   "cell_type": "code",
   "execution_count": null,
   "id": "e604e305",
   "metadata": {},
   "outputs": [],
   "source": [
    "#| default_exp interaction_builder"
   ]
  },
  {
   "cell_type": "code",
   "execution_count": null,
   "id": "6b5d9c73",
   "metadata": {},
   "outputs": [],
   "source": [
    "#| hide\n",
    "from nbdev.showdoc import *"
   ]
  },
  {
   "cell_type": "code",
   "execution_count": null,
   "id": "b08569f3",
   "metadata": {},
   "outputs": [],
   "source": [
    "#| export\n",
    "from tk_slack.core import ValueFormatter\n",
    "from tk_slack.slack_actions import ActionIdManager\n",
    "\n",
    "from fastcore.basics import patch_to\n",
    "from fastcore.test import *\n",
    "\n",
    "from typing import List, Tuple, Dict, Any, Callable, Optional\n",
    "\n",
    "import pandas as pd\n",
    "import json"
   ]
  },
  {
   "cell_type": "markdown",
   "id": "32eb1463",
   "metadata": {},
   "source": [
    "# InteractionBuilder"
   ]
  },
  {
   "cell_type": "code",
   "execution_count": null,
   "id": "465365d7",
   "metadata": {},
   "outputs": [],
   "source": [
    "#| export\n",
    "\n",
    "class InteractionBuilder:\n",
    "    \"\"\"\n",
    "    Utility class for creating interactive Slack Block Kit elements.\n",
    "    \"\"\"\n",
    "    pass"
   ]
  },
  {
   "cell_type": "markdown",
   "id": "43630b4d",
   "metadata": {},
   "source": [
    "First, let's start at the top of the message, which would be the message's header:"
   ]
  },
  {
   "cell_type": "code",
   "execution_count": null,
   "id": "bf4a6596",
   "metadata": {},
   "outputs": [],
   "source": [
    "#| export\n",
    "\n",
    "@patch_to(InteractionBuilder,cls_method=True)\n",
    "def create_button(self, text: str, action_id: str, url: Optional[str] = None, \n",
    "                    value: Optional[str] = None, style: Optional[str] = None) -> Dict[str, Any]:\n",
    "    \"\"\"Create a button element for Slack messages.\n",
    "    \n",
    "    Args:\n",
    "        text: Button text\n",
    "        action_id: Identifier for the button\n",
    "        url: Optional URL for link buttons\n",
    "        value: Optional value for the button\n",
    "        style: Optional style - \"primary\" or \"danger\"\n",
    "        \n",
    "    Returns:\n",
    "        Slack block kit button object\n",
    "    \"\"\"\n",
    "    button = {\n",
    "        \"type\": \"button\",\n",
    "        \"text\": {\n",
    "            \"type\": \"plain_text\",\n",
    "            \"text\": text,\n",
    "            \"emoji\": True\n",
    "        },\n",
    "        \"action_id\": action_id\n",
    "    }\n",
    "    \n",
    "    if url:\n",
    "        button[\"url\"] = url\n",
    "        \n",
    "    if value:\n",
    "        button[\"value\"] = value\n",
    "        \n",
    "    if style and style in [\"primary\", \"danger\"]:\n",
    "        button[\"style\"] = style\n",
    "        \n",
    "    return button"
   ]
  },
  {
   "cell_type": "code",
   "execution_count": null,
   "id": "2eac1b34",
   "metadata": {},
   "outputs": [
    {
     "data": {
      "text/plain": [
       "{'type': 'button',\n",
       " 'text': {'type': 'plain_text', 'text': 'My Button', 'emoji': True},\n",
       " 'action_id': 'button_clicked'}"
      ]
     },
     "execution_count": null,
     "metadata": {},
     "output_type": "execute_result"
    }
   ],
   "source": [
    "test_eq(InteractionBuilder.create_button('My Button','button_clicked'),\n",
    "        {'type': 'button',\n",
    "        'text': {'type': 'plain_text', 'text': 'My Button', 'emoji': True},\n",
    "        'action_id': 'button_clicked'})\n",
    "\n",
    "InteractionBuilder.create_button('My Button','button_clicked')"
   ]
  },
  {
   "cell_type": "markdown",
   "id": "6b6459c3",
   "metadata": {},
   "source": [
    "We also need a way to turn the action elements into the full action section/block:"
   ]
  },
  {
   "cell_type": "code",
   "execution_count": null,
   "id": "8bf5e846",
   "metadata": {},
   "outputs": [],
   "source": [
    "#| export\n",
    "\n",
    "@patch_to(InteractionBuilder,cls_method=True)\n",
    "def create_actions_block(self, elements: List[Dict[str, Any]]) -> Dict[str, Any]:\n",
    "    \"\"\"Create an actions block for Slack messages.\n",
    "    \n",
    "    Args:\n",
    "        elements: List of interactive elements\n",
    "        \n",
    "    Returns:\n",
    "        Slack block kit actions object\n",
    "    \"\"\"\n",
    "    return {\"type\": \"actions\",\"elements\": elements}"
   ]
  },
  {
   "cell_type": "code",
   "execution_count": null,
   "id": "22112ef9",
   "metadata": {},
   "outputs": [
    {
     "data": {
      "text/plain": [
       "{'type': 'actions',\n",
       " 'elements': {'type': 'button',\n",
       "  'text': {'type': 'plain_text', 'text': 'Another Button', 'emoji': True},\n",
       "  'action_id': 'button_2_clicked'}}"
      ]
     },
     "execution_count": null,
     "metadata": {},
     "output_type": "execute_result"
    }
   ],
   "source": [
    "test_eq(\n",
    "    InteractionBuilder.create_actions_block(\n",
    "        InteractionBuilder.create_button('Another Button','button_2_clicked')),\n",
    "    {'type': 'actions',\n",
    "    'elements': {'type': 'button',\n",
    "    'text': {'type': 'plain_text', 'text': 'Another Button', 'emoji': True},\n",
    "    'action_id': 'button_2_clicked'}}\n",
    ")\n",
    "\n",
    "\n",
    "InteractionBuilder.create_actions_block(\n",
    "    InteractionBuilder.create_button('Another Button','button_2_clicked')\n",
    ")"
   ]
  },
  {
   "cell_type": "code",
   "execution_count": null,
   "id": "95b2edc5",
   "metadata": {},
   "outputs": [],
   "source": [
    "#| export\n",
    "\n",
    "@patch_to(InteractionBuilder,cls_method=True)\n",
    "def create_datepicker(self, action_id: str, placeholder: str, \n",
    "                         initial_date: Optional[str] = None) -> Dict[str, Any]:\n",
    "        \"\"\"Create a date picker element.\n",
    "        \n",
    "        Args:\n",
    "            action_id: Identifier for the date picker\n",
    "            placeholder: Placeholder text\n",
    "            initial_date: Optional initial date (YYYY-MM-DD format)\n",
    "            \n",
    "        Returns:\n",
    "            Slack block kit datepicker object\n",
    "        \"\"\"\n",
    "        datepicker = {\n",
    "            \"type\": \"datepicker\",\n",
    "            \"action_id\": action_id,\n",
    "            \"placeholder\": {\n",
    "                \"type\": \"plain_text\",\n",
    "                \"text\": placeholder,\n",
    "                \"emoji\": True\n",
    "            }\n",
    "        }\n",
    "        \n",
    "        if initial_date:\n",
    "            datepicker[\"initial_date\"] = initial_date\n",
    "            \n",
    "        return datepicker"
   ]
  },
  {
   "cell_type": "code",
   "execution_count": null,
   "id": "be5f02dd",
   "metadata": {},
   "outputs": [
    {
     "data": {
      "text/plain": [
       "{'type': 'datepicker',\n",
       " 'action_id': 'start_date',\n",
       " 'placeholder': {'type': 'plain_text',\n",
       "  'text': 'Pick a Start Date',\n",
       "  'emoji': True}}"
      ]
     },
     "execution_count": null,
     "metadata": {},
     "output_type": "execute_result"
    }
   ],
   "source": [
    "test_eq(InteractionBuilder.create_datepicker('start_date','Pick a Start Date'),\n",
    "        {'type': 'datepicker',\n",
    "            'action_id': 'start_date',\n",
    "            'placeholder': {'type': 'plain_text',\n",
    "            'text': 'Pick a Start Date',\n",
    "            'emoji': True}})\n",
    "\n",
    "InteractionBuilder.create_datepicker('start_date','Pick a Start Date')"
   ]
  },
  {
   "cell_type": "code",
   "execution_count": null,
   "id": "7343b8d5",
   "metadata": {},
   "outputs": [],
   "source": [
    "#| export\n",
    "\n",
    "@patch_to(InteractionBuilder,cls_method=True)\n",
    "def create_static_select(self, action_id: str, placeholder: str, \n",
    "                        options: List[Tuple[str, str]]) -> Dict[str, Any]:\n",
    "    \"\"\"Create a dropdown select element.\n",
    "    \n",
    "    Args:\n",
    "        action_id: Identifier for the select\n",
    "        placeholder: Placeholder text\n",
    "        options: List of (text, value) tuples for options\n",
    "        \n",
    "    Returns:\n",
    "        Slack block kit static_select object\n",
    "    \"\"\"\n",
    "    select = {\n",
    "        \"type\": \"static_select\",\n",
    "        \"action_id\": action_id,\n",
    "        \"placeholder\": {\n",
    "            \"type\": \"plain_text\",\n",
    "            \"text\": placeholder,\n",
    "            \"emoji\": True\n",
    "        },\n",
    "        \"options\": [\n",
    "            {\n",
    "                \"text\": {\n",
    "                    \"type\": \"plain_text\",\n",
    "                    \"text\": text,\n",
    "                    \"emoji\": True\n",
    "                },\n",
    "                \"value\": value\n",
    "            }\n",
    "            for text, value in options\n",
    "        ]\n",
    "    }\n",
    "    \n",
    "    return select"
   ]
  },
  {
   "cell_type": "code",
   "execution_count": null,
   "id": "ef75cdf0",
   "metadata": {},
   "outputs": [
    {
     "data": {
      "text/plain": [
       "{'type': 'static_select',\n",
       " 'action_id': 'credit_action',\n",
       " 'placeholder': {'type': 'plain_text',\n",
       "  'text': 'Choose and Action',\n",
       "  'emoji': True},\n",
       " 'options': [{'text': {'type': 'plain_text',\n",
       "    'text': 'Issue Creidt',\n",
       "    'emoji': True},\n",
       "   'value': 'issue_credit'},\n",
       "  {'text': {'type': 'plain_text', 'text': 'Ignore', 'emoji': True},\n",
       "   'value': 'ignore'}]}"
      ]
     },
     "execution_count": null,
     "metadata": {},
     "output_type": "execute_result"
    }
   ],
   "source": [
    "test_eq(InteractionBuilder.create_static_select('credit_action','Choose and Action',[('Issue Creidt','issue_credit'),('Ignore','ignore')]),\n",
    "        {'type': 'static_select',\n",
    "            'action_id': 'credit_action',\n",
    "            'placeholder': {'type': 'plain_text',\n",
    "            'text': 'Choose and Action',\n",
    "            'emoji': True},\n",
    "            'options': [{'text': {'type': 'plain_text',\n",
    "                'text': 'Issue Creidt',\n",
    "                'emoji': True},\n",
    "            'value': 'issue_credit'},\n",
    "            {'text': {'type': 'plain_text', 'text': 'Ignore', 'emoji': True},\n",
    "            'value': 'ignore'}]})\n",
    "\n",
    "InteractionBuilder.create_static_select('credit_action','Choose and Action',[('Issue Creidt','issue_credit'),('Ignore','ignore')])"
   ]
  },
  {
   "cell_type": "code",
   "execution_count": null,
   "id": "965e157f",
   "metadata": {},
   "outputs": [],
   "source": [
    "#| export\n",
    "\n",
    "@patch_to(InteractionBuilder,cls_method=True)\n",
    "def create_multi_select(self, action_id: str, placeholder: str, \n",
    "                        options: List[Tuple[str, str]]) -> Dict[str, Any]:\n",
    "    \"\"\"Create a multi-select dropdown element.\n",
    "    \n",
    "    Args:\n",
    "        action_id: Identifier for the multi-select\n",
    "        placeholder: Placeholder text\n",
    "        options: List of (text, value) tuples for options\n",
    "        \n",
    "    Returns:\n",
    "        Slack block kit multi_static_select object\n",
    "    \"\"\"\n",
    "    multi_select = {\n",
    "        \"type\": \"multi_static_select\",\n",
    "        \"action_id\": action_id,\n",
    "        \"placeholder\": {\n",
    "            \"type\": \"plain_text\",\n",
    "            \"text\": placeholder,\n",
    "            \"emoji\": True\n",
    "        },\n",
    "        \"options\": [\n",
    "            {\n",
    "                \"text\": {\n",
    "                    \"type\": \"plain_text\",\n",
    "                    \"text\": text,\n",
    "                    \"emoji\": True\n",
    "                },\n",
    "                \"value\": value\n",
    "            }\n",
    "            for text, value in options\n",
    "        ]\n",
    "    }\n",
    "    \n",
    "    return multi_select"
   ]
  },
  {
   "cell_type": "code",
   "execution_count": null,
   "id": "6385a15e",
   "metadata": {},
   "outputs": [
    {
     "data": {
      "text/plain": [
       "{'type': 'multi_static_select',\n",
       " 'action_id': 'select_multiple',\n",
       " 'placeholder': {'type': 'plain_text',\n",
       "  'text': 'Select Option(s)',\n",
       "  'emoji': True},\n",
       " 'options': [{'text': {'type': 'plain_text', 'text': 'One', 'emoji': True},\n",
       "   'value': 'one'},\n",
       "  {'text': {'type': 'plain_text', 'text': 'Two', 'emoji': True},\n",
       "   'value': 'two'}]}"
      ]
     },
     "execution_count": null,
     "metadata": {},
     "output_type": "execute_result"
    }
   ],
   "source": [
    "test_eq(InteractionBuilder.create_multi_select('select_multiple','Select Option(s)',[('One','one'),('Two','two')]),\n",
    "        {'type': 'multi_static_select',\n",
    "            'action_id': 'select_multiple',\n",
    "            'placeholder': {'type': 'plain_text',\n",
    "            'text': 'Select Option(s)',\n",
    "            'emoji': True},\n",
    "            'options': [{'text': {'type': 'plain_text', 'text': 'One', 'emoji': True},\n",
    "            'value': 'one'},\n",
    "            {'text': {'type': 'plain_text', 'text': 'Two', 'emoji': True},\n",
    "            'value': 'two'}]})\n",
    "\n",
    "InteractionBuilder.create_multi_select('select_multiple','Select Option(s)',[('One','one'),('Two','two')])"
   ]
  },
  {
   "cell_type": "code",
   "execution_count": null,
   "id": "08948401",
   "metadata": {},
   "outputs": [],
   "source": [
    "#| export\n",
    "\n",
    "@patch_to(InteractionBuilder,cls_method=True)\n",
    "def create_users_select(self, action_id: str, placeholder: str) -> Dict[str, Any]:\n",
    "        \"\"\"Create a user select element.\n",
    "        \n",
    "        Args:\n",
    "            action_id: Identifier for the users select\n",
    "            placeholder: Placeholder text\n",
    "            \n",
    "        Returns:\n",
    "            Slack block kit users_select object\n",
    "        \"\"\"\n",
    "        return {\n",
    "            \"type\": \"users_select\",\n",
    "            \"action_id\": action_id,\n",
    "            \"placeholder\": {\n",
    "                \"type\": \"plain_text\",\n",
    "                \"text\": placeholder,\n",
    "                \"emoji\": True\n",
    "            }\n",
    "        }"
   ]
  },
  {
   "cell_type": "code",
   "execution_count": null,
   "id": "f8f17a21",
   "metadata": {},
   "outputs": [
    {
     "data": {
      "text/plain": [
       "{'type': 'users_select',\n",
       " 'action_id': 'selected_user',\n",
       " 'placeholder': {'type': 'plain_text', 'text': 'Select a User', 'emoji': True}}"
      ]
     },
     "execution_count": null,
     "metadata": {},
     "output_type": "execute_result"
    }
   ],
   "source": [
    "test_eq(InteractionBuilder.create_users_select('selected_user','Select a User'),\n",
    "        {'type': 'users_select',\n",
    "        'action_id': 'selected_user',\n",
    "        'placeholder': {'type': 'plain_text', 'text': 'Select a User', 'emoji': True}})\n",
    "\n",
    "InteractionBuilder.create_users_select('selected_user','Select a User')"
   ]
  },
  {
   "cell_type": "code",
   "execution_count": null,
   "id": "22eab7d7",
   "metadata": {},
   "outputs": [],
   "source": [
    "#| export\n",
    "\n",
    "@patch_to(InteractionBuilder,cls_method=True)\n",
    "def create_channels_select(self, action_id: str, placeholder: str) -> Dict[str, Any]:\n",
    "    \"\"\"Create a channel select element.\n",
    "    \n",
    "    Args:\n",
    "        action_id: Identifier for the channels select\n",
    "        placeholder: Placeholder text\n",
    "        \n",
    "    Returns:\n",
    "        Slack block kit channels_select object\n",
    "    \"\"\"\n",
    "    return {\n",
    "        \"type\": \"channels_select\",\n",
    "        \"action_id\": action_id,\n",
    "        \"placeholder\": {\n",
    "            \"type\": \"plain_text\",\n",
    "            \"text\": placeholder,\n",
    "            \"emoji\": True\n",
    "        }\n",
    "    }"
   ]
  },
  {
   "cell_type": "code",
   "execution_count": null,
   "id": "5021c23d",
   "metadata": {},
   "outputs": [
    {
     "data": {
      "text/plain": [
       "{'type': 'channels_select',\n",
       " 'action_id': 'selected_channel',\n",
       " 'placeholder': {'type': 'plain_text',\n",
       "  'text': 'Select a Channel',\n",
       "  'emoji': True}}"
      ]
     },
     "execution_count": null,
     "metadata": {},
     "output_type": "execute_result"
    }
   ],
   "source": [
    "test_eq(InteractionBuilder.create_channels_select('selected_channel','Select a Channel'),\n",
    "        {'type': 'channels_select',\n",
    "        'action_id': 'selected_channel',\n",
    "        'placeholder': {'type': 'plain_text',\n",
    "        'text': 'Select a Channel',\n",
    "        'emoji': True}})\n",
    "\n",
    "InteractionBuilder.create_channels_select('selected_channel','Select a Channel')"
   ]
  },
  {
   "cell_type": "code",
   "execution_count": null,
   "id": "d5548458",
   "metadata": {},
   "outputs": [],
   "source": [
    "#| export\n",
    "\n",
    "@patch_to(InteractionBuilder,cls_method=True)\n",
    "def detect_and_create_interactive_elements(\n",
    "        self,\n",
    "        option_names: List[str], \n",
    "        option_values: List[str], \n",
    "        action_type: Optional[str] = None,\n",
    "        metadata: Optional[str] = None,\n",
    "        view_info: Optional[Dict[str, Any]] = None\n",
    "        ) -> List[Dict[str, Any]]:\n",
    "    \"\"\"Smartly detect and create appropriate interactive elements.\n",
    "    \n",
    "    Args:\n",
    "        option_names: List of option names\n",
    "        option_values: List of option values\n",
    "        action_type: Optional explicit action type\n",
    "        metadata: Optional metadata to include in action_id\n",
    "        view_info: Optional view information for embedding in metadata\n",
    "        \n",
    "    Returns:\n",
    "        List of interactive elements\n",
    "    \"\"\"\n",
    "    \n",
    "    # Smart action type detection if not explicitly set\n",
    "    if not action_type:\n",
    "        # Check for date-related names to use date picker\n",
    "        date_keywords = ['date', 'when', 'calendar', 'schedule', 'deadline', 'due']\n",
    "        has_date_keyword = any(keyword in ' '.join(option_names).lower() for keyword in date_keywords)\n",
    "        \n",
    "        # Check if we have multiple options for a select\n",
    "        if len(option_names) > 3:\n",
    "            action_type = 'static_select'\n",
    "        elif has_date_keyword:\n",
    "            action_type = 'datepicker'\n",
    "        elif any('user' in name.lower() for name in option_names):\n",
    "            action_type = 'users_select'\n",
    "        elif any('channel' in name.lower() for name in option_names):\n",
    "            action_type = 'channels_select'\n",
    "        elif any(['multi' in ''.join(option_names).lower(), \n",
    "                    'select multiple' in ''.join(option_names).lower()]):\n",
    "            action_type = 'multi_static_select'\n",
    "        else:\n",
    "            action_type = 'button'\n",
    "    \n",
    "    # If view_info is provided, embed it in the metadata\n",
    "    if view_info and metadata:\n",
    "        # Combine view_info with existing metadata\n",
    "        try:\n",
    "            meta_dict = json.loads(metadata) if isinstance(metadata, str) else metadata\n",
    "            if isinstance(meta_dict, dict) and isinstance(view_info, dict):\n",
    "                meta_dict.update(view_info)\n",
    "                metadata = json.dumps(meta_dict)\n",
    "        except:\n",
    "            # If metadata isn't JSON, append view info to metadata\n",
    "            view_info_str = json.dumps(view_info)\n",
    "            metadata = f\"{metadata}|{view_info_str}\"\n",
    "    elif view_info:\n",
    "        # Just use view_info as metadata\n",
    "        metadata = json.dumps(view_info)\n",
    "    \n",
    "    elements = []\n",
    "    \n",
    "    # Create appropriate interactive elements based on action_type\n",
    "    if action_type == 'datepicker':\n",
    "        # Create date picker\n",
    "        initial_date = None\n",
    "        if option_values and option_values[0]:\n",
    "            try:\n",
    "                # Try to parse as date if it looks like one\n",
    "                parsed_date = pd.to_datetime(option_values[0])\n",
    "                initial_date = parsed_date.strftime('%Y-%m-%d')\n",
    "            except Exception:\n",
    "                pass\n",
    "        \n",
    "        # Generate unique action_id with metadata\n",
    "        action_id = ActionIdManager.generate_action_id(\n",
    "            action_type=action_type,\n",
    "            index=0\n",
    "            )\n",
    "        \n",
    "        elements.append(\n",
    "            InteractionBuilder.create_datepicker(\n",
    "                action_id=action_id,\n",
    "                placeholder=option_names[0],\n",
    "                initial_date=initial_date\n",
    "            )\n",
    "        )\n",
    "        \n",
    "    elif action_type == 'static_select':\n",
    "        # Create dropdown with options\n",
    "        options = [(name, value) for name, value in zip(option_names, option_values)]\n",
    "        \n",
    "        # Generate unique action_id with metadata\n",
    "        action_id = ActionIdManager.generate_action_id(\n",
    "            action_type=action_type,\n",
    "            index=0\n",
    "        )\n",
    "        \n",
    "        elements.append(\n",
    "            InteractionBuilder.create_static_select(\n",
    "                action_id=action_id,\n",
    "                placeholder=\"Select an option\",\n",
    "                options=options\n",
    "            )\n",
    "        )\n",
    "        \n",
    "    elif action_type == 'multi_static_select':\n",
    "        # Create multi-select dropdown\n",
    "        options = [(name, value) for name, value in zip(option_names, option_values)]\n",
    "        \n",
    "        # Generate unique action_id with metadata\n",
    "        action_id = ActionIdManager.generate_action_id(\n",
    "            action_type=action_type,\n",
    "            index=0,\n",
    "            metadata=metadata\n",
    "        )\n",
    "        \n",
    "        elements.append(\n",
    "            InteractionBuilder.create_multi_select(\n",
    "                action_id=action_id,\n",
    "                placeholder=\"Select options\",\n",
    "                options=options\n",
    "            )\n",
    "        )\n",
    "        \n",
    "    elif action_type == 'users_select':\n",
    "        # Create user select\n",
    "        # Generate unique action_id with metadata\n",
    "        action_id = ActionIdManager.generate_action_id(\n",
    "            action_type=action_type,\n",
    "            index=0\n",
    "        )\n",
    "        \n",
    "        elements.append(\n",
    "            InteractionBuilder.create_users_select(\n",
    "                action_id=action_id,\n",
    "                placeholder=option_names[0] if option_names else \"Select a user\"\n",
    "            )\n",
    "        )\n",
    "        \n",
    "    elif action_type == 'channels_select':\n",
    "        # Create channel select\n",
    "        # Generate unique action_id with metadata\n",
    "        action_id = ActionIdManager.generate_action_id(\n",
    "            action_type=action_type,\n",
    "            index=0,\n",
    "            metadata=metadata\n",
    "        )\n",
    "        \n",
    "        elements.append(\n",
    "            InteractionBuilder.create_channels_select(\n",
    "                action_id=action_id,\n",
    "                placeholder=option_names[0] if option_names else \"Select a channel\"\n",
    "            )\n",
    "        )\n",
    "        \n",
    "    else:\n",
    "        # Default to buttons\n",
    "        for i, (name, value) in enumerate(zip(option_names, option_values)):\n",
    "            # Generate unique action_id with metadata\n",
    "            action_id = ActionIdManager.generate_action_id(\n",
    "                action_type=action_type,\n",
    "                index=i,\n",
    "            )\n",
    "            \n",
    "            elements.append(\n",
    "                InteractionBuilder.create_button(\n",
    "                    text=str(name),\n",
    "                    action_id=action_id,\n",
    "                    value=str(value),\n",
    "                    style=\"primary\" if i == 0 else None\n",
    "                )\n",
    "            )\n",
    "    \n",
    "    return elements"
   ]
  },
  {
   "cell_type": "code",
   "execution_count": null,
   "id": "685692b8",
   "metadata": {},
   "outputs": [
    {
     "data": {
      "text/plain": [
       "[{'type': 'button',\n",
       "  'text': {'type': 'plain_text', 'text': 'Start Date', 'emoji': True},\n",
       "  'action_id': 'tk_interaction_sele_0',\n",
       "  'value': 'start_date',\n",
       "  'style': 'primary'}]"
      ]
     },
     "execution_count": null,
     "metadata": {},
     "output_type": "execute_result"
    }
   ],
   "source": [
    "test_eq(InteractionBuilder.detect_and_create_interactive_elements(['Start Date'],['start_date'],'selected_start_date'),\n",
    "        [{'type': 'button',\n",
    "            'text': {'type': 'plain_text', 'text': 'Start Date', 'emoji': True},\n",
    "            'action_id': 'tk_interaction_sele_0',\n",
    "            'value': 'start_date',\n",
    "            'style': 'primary'}])\n",
    "\n",
    "InteractionBuilder.detect_and_create_interactive_elements(['Start Date'],['start_date'],'selected_start_date')"
   ]
  },
  {
   "cell_type": "markdown",
   "id": "3a2fe872",
   "metadata": {},
   "source": [
    "#| hide\n",
    "\n",
    "# Export\n",
    "This is mainly here just to allow me to fold sections above here and still have this section visible"
   ]
  },
  {
   "cell_type": "code",
   "execution_count": null,
   "id": "291542f5",
   "metadata": {},
   "outputs": [],
   "source": [
    "#| hide\n",
    "import nbdev; nbdev.nbdev_export()"
   ]
  }
 ],
 "metadata": {
  "kernelspec": {
   "display_name": "python3",
   "language": "python",
   "name": "python3"
  }
 },
 "nbformat": 4,
 "nbformat_minor": 5
}
